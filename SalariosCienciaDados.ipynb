{
  "nbformat": 4,
  "nbformat_minor": 0,
  "metadata": {
    "colab": {
      "name": "SalariosCienciaDados.ipynb",
      "provenance": [],
      "collapsed_sections": [],
      "mount_file_id": "15O1AVLtefqTj00AQo8ACguePnAWrIXjE",
      "authorship_tag": "ABX9TyNDQXrM4dk0RPufWXAc9eyS",
      "include_colab_link": true
    },
    "kernelspec": {
      "name": "python3",
      "display_name": "Python 3"
    },
    "language_info": {
      "name": "python"
    }
  },
  "cells": [
    {
      "cell_type": "markdown",
      "metadata": {
        "id": "view-in-github",
        "colab_type": "text"
      },
      "source": [
        "<a href=\"https://colab.research.google.com/github/H3nr1que26/Pedro/blob/main/SalariosCienciaDados.ipynb\" target=\"_parent\"><img src=\"https://colab.research.google.com/assets/colab-badge.svg\" alt=\"Open In Colab\"/></a>"
      ]
    },
    {
      "cell_type": "code",
      "execution_count": null,
      "metadata": {
        "id": "oJ_1AwUmGoxj"
      },
      "outputs": [],
      "source": [
        "import pandas as pd\n",
        "\n",
        "import numpy as np\n",
        "\n",
        "import matplotlib.pyplot as plt\n",
        "\n",
        "import seaborn as sns\n",
        "\n",
        "uri =\"https://raw.githubusercontent.com/H3nr1que26/Pedro/main/ds_salaries.csv\"\n",
        "\n",
        "planilha = pd.read_csv(uri)\n",
        "\n",
        "\n",
        "planilha.head()\n",
        "\n",
        "\n",
        "Salarios = planilha [\"salary\"]\n",
        "\n",
        "Salarios_Pais = planilha [\"salary_in_usd\"]\n",
        "\n",
        "\n",
        "\n",
        "planilha.head()\n",
        "\n",
        "\n"
      ]
    },
    {
      "cell_type": "code",
      "source": [
        "print(\"Média:\" , np.mean(Salarios))\n",
        "print(\"Desvio Padrão:\" , np.std(Salarios))\n",
        "\n",
        "\n",
        "print(\"Média:\" , np.mean(Salarios_Pais))\n",
        "print(\"Desvio Padrão:\" , np.std(Salarios_Pais))\n"
      ],
      "metadata": {
        "id": "ZWwRPl13HgGQ"
      },
      "execution_count": null,
      "outputs": []
    },
    {
      "cell_type": "code",
      "source": [
        "print(\"Coeficiente de Variação:\", np.std(Salarios)/np.mean(Salarios))\n",
        "\n",
        "\n",
        "print(\"Coeficiente de Variação:\", np.std(Salarios_Pais)/np.mean(Salarios_Pais))"
      ],
      "metadata": {
        "id": "uYYyis61JJOb"
      },
      "execution_count": null,
      "outputs": []
    },
    {
      "cell_type": "code",
      "source": [
        "# Método do desvio\n",
        "\n",
        "\n",
        "Salarios_mean , Salarios_std = np.mean(planilha[\"salary\"]) , np.std(planilha[\"salary\"])\n",
        "\n",
        "cut_off = Salarios_std * 3\n",
        "\n",
        "lower , upper = Salarios_mean - cut_off , Salarios_mean + cut_off\n",
        "\n",
        "idx = np.where((planilha[\"salary\"]< lower) | (planilha[\"salary\"] > upper))\n",
        "\n",
        "print(idx)\n"
      ],
      "metadata": {
        "id": "r1xe_roFKBlc"
      },
      "execution_count": null,
      "outputs": []
    },
    {
      "cell_type": "code",
      "source": [
        "# Método do desvio\n",
        "\n",
        "Salarios_pais_mean , Salarios_pais_std = np.mean(planilha[\"salary_in_usd\"]) , np.std(planilha[\"salary_in_usd\"])\n",
        "\n",
        "cut_salario_off = Salarios_pais_std * 3\n",
        "\n",
        "lower , upper = Salarios_pais_mean - cut_salario_off , Salarios_pais_mean + cut_salario_off\n",
        "\n",
        "idx = np.where((planilha[\"salary_in_usd\"]< lower) | (planilha[\"salary_in_usd\"] > upper))\n",
        "\n",
        "print(idx)"
      ],
      "metadata": {
        "id": "21t8worwcGKi"
      },
      "execution_count": null,
      "outputs": []
    },
    {
      "cell_type": "code",
      "source": [
        "plt.plot(Salarios)"
      ],
      "metadata": {
        "id": "Vwrd0ZKojeQc"
      },
      "execution_count": null,
      "outputs": []
    },
    {
      "cell_type": "code",
      "source": [
        "plt.plot(Salarios_Pais)"
      ],
      "metadata": {
        "id": "CPMa-sZ1jwR-"
      },
      "execution_count": null,
      "outputs": []
    }
  ]
}